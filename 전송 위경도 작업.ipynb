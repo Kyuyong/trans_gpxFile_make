{
 "cells": [
  {
   "cell_type": "markdown",
   "id": "ab48ff94",
   "metadata": {},
   "source": [
    "# 링 1개일 경우 작업하기"
   ]
  },
  {
   "cell_type": "code",
   "execution_count": 1,
   "id": "4dd9b8ad",
   "metadata": {},
   "outputs": [],
   "source": [
    "import pandas as pd\n",
    "import os\n",
    "\n",
    "df = pd.read_excel('sample.xlsx')\n",
    "df1 = df[['cbl.geo','ring.ring_nm']]\n",
    "result = pd.DataFrame(columns=['Longitude', 'Latitude'])\n",
    "\n",
    "# 숫자 추출 함수 정의\n",
    "def extract_numbers(s):\n",
    "    return [float(x) for x in s.split()]"
   ]
  },
  {
   "cell_type": "code",
   "execution_count": 3,
   "id": "27645d36",
   "metadata": {},
   "outputs": [],
   "source": [
    "for i in range(len(df1)):\n",
    "    geo = df1['cbl.geo'][i]\n",
    "    \n",
    "    geo = geo.replace('LINESTRING (','')\n",
    "    geo = geo.replace(')','')\n",
    "    geo = geo.replace(',','')\n",
    "    \n",
    "    # 위도와 경도 추출\n",
    "    numbers = extract_numbers(geo)\n",
    "    longitude_latitude = [(numbers[i], numbers[i+1]) for i in range(0, len(numbers), 2)]\n",
    "    # 추출한 위도와 경도 데이터프레임으로 저장\n",
    "    result_df = pd.DataFrame(longitude_latitude, columns=['Longitude', 'Latitude'])\n",
    "    result = pd.concat([result, result_df])\n",
    "    nm1 = df1['ring.ring_nm'][0]\n",
    "    result['nm'] = nm1"
   ]
  },
  {
   "cell_type": "code",
   "execution_count": 4,
   "id": "0bd23ea5",
   "metadata": {
    "scrolled": false
   },
   "outputs": [],
   "source": [
    "result = result.reset_index(drop=True)"
   ]
  },
  {
   "cell_type": "code",
   "execution_count": 5,
   "id": "ea85215d",
   "metadata": {},
   "outputs": [
    {
     "data": {
      "text/plain": [
       "127.026486443504"
      ]
     },
     "execution_count": 5,
     "metadata": {},
     "output_type": "execute_result"
    }
   ],
   "source": [
    "result['Longitude'][0]"
   ]
  },
  {
   "cell_type": "code",
   "execution_count": 6,
   "id": "1fcd3cf3",
   "metadata": {},
   "outputs": [],
   "source": [
    "# GPX 텍스트 템플릿\n",
    "gpx_template = '''<?xml version=\"1.0\" encoding=\"utf-8\"?>\n",
    "<gpx xmlns:xsd=\"http://www.w3.org/2001/XMLSchema\" xmlns=\"http://www.topografix.com/GPX/1/1\">\n",
    "  <trk>\n",
    "    <trkseg>\n",
    "      {trkpts}\n",
    "    </trkseg>\n",
    "  </trk>\n",
    "</gpx>\n",
    "'''\n",
    "\n",
    "# trkpt 템플릿\n",
    "trkpt_template = '<trkpt lon=\"{lon}\" lat=\"{lat}\"><ele>-1</ele></trkpt>'"
   ]
  },
  {
   "cell_type": "code",
   "execution_count": 8,
   "id": "f73b45e4",
   "metadata": {},
   "outputs": [],
   "source": [
    "# trkpts 생성\n",
    "trkpts = ''\n",
    "for _, row in result.iterrows():\n",
    "    trkpts += trkpt_template.format(lon=row['Longitude'], lat=row['Latitude'])\n",
    "# GPX 텍스트 생성\n",
    "gpx_text = gpx_template.format(trkpts=trkpts)"
   ]
  },
  {
   "cell_type": "code",
   "execution_count": 11,
   "id": "5c311c10",
   "metadata": {},
   "outputs": [
    {
     "name": "stdout",
     "output_type": "stream",
     "text": [
      "Mini08{GS}아산_둔포_에버빌(운용337-69).gpx 파일이 저장되었습니다.\n"
     ]
    }
   ],
   "source": [
    "# nm 값으로 파일명 만들기\n",
    "file_name = result['nm'].iloc[0]  # 여기서는 첫 번째 값으로 파일명을 만들었습니다.\n",
    "file_name = file_name.replace('[', '').replace(']', '').replace('/', '_').replace(' ', '_')\n",
    "gpx_file_name = f\"{file_name}.gpx\"\n",
    "\n",
    "# GPX 파일로 저장\n",
    "with open(gpx_file_name, 'w') as f:\n",
    "    f.write(gpx_text)\n",
    "\n",
    "print(f\"{gpx_file_name} 파일이 저장되었습니다.\")"
   ]
  },
  {
   "cell_type": "markdown",
   "id": "215cf58b",
   "metadata": {},
   "source": [
    "# 링 n개 이상 "
   ]
  },
  {
   "cell_type": "code",
   "execution_count": 134,
   "id": "22fd3efc",
   "metadata": {},
   "outputs": [],
   "source": [
    "df = pd.read_excel('sample3.xlsx')\n",
    "df1 = df[['cbl.geo','ring.ring_nm']]\n",
    "result = pd.DataFrame(columns=['Longitude', 'Latitude','nm'])\n",
    "\n",
    "# 숫자 추출 함수 정의\n",
    "def extract_numbers(s):\n",
    "    return [float(x) for x in s.split()]\n",
    "\n",
    "def geo_replace(geo):\n",
    "    geo = geo.replace('LINESTRING (','')\n",
    "    geo = geo.replace(')','')\n",
    "    geo = geo.replace(',','')\n",
    "    \n",
    "    return geo"
   ]
  },
  {
   "cell_type": "code",
   "execution_count": 136,
   "id": "fbd1c7d6",
   "metadata": {
    "scrolled": true
   },
   "outputs": [
    {
     "data": {
      "text/html": [
       "<div>\n",
       "<style scoped>\n",
       "    .dataframe tbody tr th:only-of-type {\n",
       "        vertical-align: middle;\n",
       "    }\n",
       "\n",
       "    .dataframe tbody tr th {\n",
       "        vertical-align: top;\n",
       "    }\n",
       "\n",
       "    .dataframe thead th {\n",
       "        text-align: right;\n",
       "    }\n",
       "</style>\n",
       "<table border=\"1\" class=\"dataframe\">\n",
       "  <thead>\n",
       "    <tr style=\"text-align: right;\">\n",
       "      <th></th>\n",
       "      <th>cbl.geo</th>\n",
       "      <th>ring.ring_nm</th>\n",
       "    </tr>\n",
       "  </thead>\n",
       "  <tbody>\n",
       "    <tr>\n",
       "      <th>0</th>\n",
       "      <td>LINESTRING (127.3837661824834 36.3468641589470...</td>\n",
       "      <td>(DUMMY) PTP_대전_L2_대덕구청VoIP_대전RDC</td>\n",
       "    </tr>\n",
       "    <tr>\n",
       "      <th>1</th>\n",
       "      <td>LINESTRING (127.386631810859 36.3468738313866,...</td>\n",
       "      <td>(DUMMY) PTP_대전_L2_대덕구청VoIP_대전RDC</td>\n",
       "    </tr>\n",
       "    <tr>\n",
       "      <th>2</th>\n",
       "      <td>LINESTRING (127.390128234741 36.3468249716979,...</td>\n",
       "      <td>(DUMMY) PTP_대전_L2_대덕구청VoIP_대전RDC</td>\n",
       "    </tr>\n",
       "    <tr>\n",
       "      <th>3</th>\n",
       "      <td>LINESTRING (127.40628436527 36.3812218745539, ...</td>\n",
       "      <td>(DUMMY) 둔산-송강-01링</td>\n",
       "    </tr>\n",
       "    <tr>\n",
       "      <th>4</th>\n",
       "      <td>LINESTRING (127.39191028087181 36.374449966680...</td>\n",
       "      <td>(DUMMY) 둔산-송강-01링</td>\n",
       "    </tr>\n",
       "    <tr>\n",
       "      <th>5</th>\n",
       "      <td>LINESTRING (127.39191028087181 36.374449966680...</td>\n",
       "      <td>(DUMMY) 둔산-송강-01링</td>\n",
       "    </tr>\n",
       "    <tr>\n",
       "      <th>6</th>\n",
       "      <td>LINESTRING (127.37982703786267 36.374815871429...</td>\n",
       "      <td>(DUMMY) 둔산-송강-01링</td>\n",
       "    </tr>\n",
       "    <tr>\n",
       "      <th>7</th>\n",
       "      <td>LINESTRING (127.340787375175 36.2966995343413,...</td>\n",
       "      <td>(PON이원화)_천년나무아파트</td>\n",
       "    </tr>\n",
       "    <tr>\n",
       "      <th>8</th>\n",
       "      <td>LINESTRING (127.34080091445057 36.296720440285...</td>\n",
       "      <td>(PON이원화)_천년나무아파트</td>\n",
       "    </tr>\n",
       "    <tr>\n",
       "      <th>9</th>\n",
       "      <td>LINESTRING (127.337582382389 36.296522548419, ...</td>\n",
       "      <td>(PON이원화)_천년나무아파트</td>\n",
       "    </tr>\n",
       "    <tr>\n",
       "      <th>10</th>\n",
       "      <td>LINESTRING (127.337499495456 36.2959200574306,...</td>\n",
       "      <td>(PON이원화)_천년나무아파트</td>\n",
       "    </tr>\n",
       "  </tbody>\n",
       "</table>\n",
       "</div>"
      ],
      "text/plain": [
       "                                              cbl.geo  \\\n",
       "0   LINESTRING (127.3837661824834 36.3468641589470...   \n",
       "1   LINESTRING (127.386631810859 36.3468738313866,...   \n",
       "2   LINESTRING (127.390128234741 36.3468249716979,...   \n",
       "3   LINESTRING (127.40628436527 36.3812218745539, ...   \n",
       "4   LINESTRING (127.39191028087181 36.374449966680...   \n",
       "5   LINESTRING (127.39191028087181 36.374449966680...   \n",
       "6   LINESTRING (127.37982703786267 36.374815871429...   \n",
       "7   LINESTRING (127.340787375175 36.2966995343413,...   \n",
       "8   LINESTRING (127.34080091445057 36.296720440285...   \n",
       "9   LINESTRING (127.337582382389 36.296522548419, ...   \n",
       "10  LINESTRING (127.337499495456 36.2959200574306,...   \n",
       "\n",
       "                        ring.ring_nm  \n",
       "0   (DUMMY) PTP_대전_L2_대덕구청VoIP_대전RDC  \n",
       "1   (DUMMY) PTP_대전_L2_대덕구청VoIP_대전RDC  \n",
       "2   (DUMMY) PTP_대전_L2_대덕구청VoIP_대전RDC  \n",
       "3                  (DUMMY) 둔산-송강-01링  \n",
       "4                  (DUMMY) 둔산-송강-01링  \n",
       "5                  (DUMMY) 둔산-송강-01링  \n",
       "6                  (DUMMY) 둔산-송강-01링  \n",
       "7                   (PON이원화)_천년나무아파트  \n",
       "8                   (PON이원화)_천년나무아파트  \n",
       "9                   (PON이원화)_천년나무아파트  \n",
       "10                  (PON이원화)_천년나무아파트  "
      ]
     },
     "execution_count": 136,
     "metadata": {},
     "output_type": "execute_result"
    }
   ],
   "source": [
    "df1"
   ]
  },
  {
   "cell_type": "code",
   "execution_count": 137,
   "id": "946a6ebb",
   "metadata": {},
   "outputs": [],
   "source": [
    "nm_list = df1['ring.ring_nm'].unique()"
   ]
  },
  {
   "cell_type": "code",
   "execution_count": 139,
   "id": "39f018ea",
   "metadata": {
    "scrolled": true
   },
   "outputs": [
    {
     "name": "stdout",
     "output_type": "stream",
     "text": [
      "(DUMMY) PTP_대전_L2_대덕구청VoIP_대전RDC  == 작업중 == \n",
      "(DUMMY) 둔산-송강-01링  == 작업중 == \n",
      "(PON이원화)_천년나무아파트  == 작업중 == \n"
     ]
    }
   ],
   "source": [
    "for i in range(len(nm_list)):\n",
    "    print(nm_list[i], \" == geo 분리 작업중 == \")\n",
    "    df2 = df1[df1['ring.ring_nm']==nm_list[i]]\n",
    "    df2 = df2.reset_index(drop=True)\n",
    "    for j in range(len(df2)):\n",
    "        geo = geo_replace(df2['cbl.geo'][j])\n",
    "        # 위도와 경도 추출\n",
    "        numbers = extract_numbers(geo)\n",
    "        longitude_latitude = [(numbers[j], numbers[j+1]) for j in range(0, len(numbers), 2)]\n",
    "        # 추출한 위도와 경도 데이터프레임으로 저장\n",
    "        result_df = pd.DataFrame(longitude_latitude, columns=['Longitude', 'Latitude'])\n",
    "        nm1 = df2['ring.ring_nm'][0]\n",
    "        result_df['nm'] = nm1\n",
    "        result = pd.concat([result, result_df])\n",
    "        \n",
    "\n"
   ]
  },
  {
   "cell_type": "code",
   "execution_count": 140,
   "id": "e5e91ed7",
   "metadata": {},
   "outputs": [],
   "source": [
    "result = result.reset_index(drop=True)"
   ]
  },
  {
   "cell_type": "code",
   "execution_count": 141,
   "id": "16d8c82e",
   "metadata": {},
   "outputs": [
    {
     "data": {
      "text/html": [
       "<div>\n",
       "<style scoped>\n",
       "    .dataframe tbody tr th:only-of-type {\n",
       "        vertical-align: middle;\n",
       "    }\n",
       "\n",
       "    .dataframe tbody tr th {\n",
       "        vertical-align: top;\n",
       "    }\n",
       "\n",
       "    .dataframe thead th {\n",
       "        text-align: right;\n",
       "    }\n",
       "</style>\n",
       "<table border=\"1\" class=\"dataframe\">\n",
       "  <thead>\n",
       "    <tr style=\"text-align: right;\">\n",
       "      <th></th>\n",
       "      <th>Longitude</th>\n",
       "      <th>Latitude</th>\n",
       "      <th>nm</th>\n",
       "    </tr>\n",
       "  </thead>\n",
       "  <tbody>\n",
       "    <tr>\n",
       "      <th>0</th>\n",
       "      <td>127.383766</td>\n",
       "      <td>36.346864</td>\n",
       "      <td>(DUMMY) PTP_대전_L2_대덕구청VoIP_대전RDC</td>\n",
       "    </tr>\n",
       "    <tr>\n",
       "      <th>1</th>\n",
       "      <td>127.383799</td>\n",
       "      <td>36.346874</td>\n",
       "      <td>(DUMMY) PTP_대전_L2_대덕구청VoIP_대전RDC</td>\n",
       "    </tr>\n",
       "    <tr>\n",
       "      <th>2</th>\n",
       "      <td>127.383800</td>\n",
       "      <td>36.346874</td>\n",
       "      <td>(DUMMY) PTP_대전_L2_대덕구청VoIP_대전RDC</td>\n",
       "    </tr>\n",
       "    <tr>\n",
       "      <th>3</th>\n",
       "      <td>127.383826</td>\n",
       "      <td>36.347121</td>\n",
       "      <td>(DUMMY) PTP_대전_L2_대덕구청VoIP_대전RDC</td>\n",
       "    </tr>\n",
       "    <tr>\n",
       "      <th>4</th>\n",
       "      <td>127.383864</td>\n",
       "      <td>36.347120</td>\n",
       "      <td>(DUMMY) PTP_대전_L2_대덕구청VoIP_대전RDC</td>\n",
       "    </tr>\n",
       "    <tr>\n",
       "      <th>...</th>\n",
       "      <td>...</td>\n",
       "      <td>...</td>\n",
       "      <td>...</td>\n",
       "    </tr>\n",
       "    <tr>\n",
       "      <th>93</th>\n",
       "      <td>127.337582</td>\n",
       "      <td>36.296523</td>\n",
       "      <td>(PON이원화)_천년나무아파트</td>\n",
       "    </tr>\n",
       "    <tr>\n",
       "      <th>94</th>\n",
       "      <td>127.337517</td>\n",
       "      <td>36.296443</td>\n",
       "      <td>(PON이원화)_천년나무아파트</td>\n",
       "    </tr>\n",
       "    <tr>\n",
       "      <th>95</th>\n",
       "      <td>127.337499</td>\n",
       "      <td>36.295920</td>\n",
       "      <td>(PON이원화)_천년나무아파트</td>\n",
       "    </tr>\n",
       "    <tr>\n",
       "      <th>96</th>\n",
       "      <td>127.337499</td>\n",
       "      <td>36.295920</td>\n",
       "      <td>(PON이원화)_천년나무아파트</td>\n",
       "    </tr>\n",
       "    <tr>\n",
       "      <th>97</th>\n",
       "      <td>127.337509</td>\n",
       "      <td>36.295485</td>\n",
       "      <td>(PON이원화)_천년나무아파트</td>\n",
       "    </tr>\n",
       "  </tbody>\n",
       "</table>\n",
       "<p>98 rows × 3 columns</p>\n",
       "</div>"
      ],
      "text/plain": [
       "     Longitude   Latitude                                nm\n",
       "0   127.383766  36.346864  (DUMMY) PTP_대전_L2_대덕구청VoIP_대전RDC\n",
       "1   127.383799  36.346874  (DUMMY) PTP_대전_L2_대덕구청VoIP_대전RDC\n",
       "2   127.383800  36.346874  (DUMMY) PTP_대전_L2_대덕구청VoIP_대전RDC\n",
       "3   127.383826  36.347121  (DUMMY) PTP_대전_L2_대덕구청VoIP_대전RDC\n",
       "4   127.383864  36.347120  (DUMMY) PTP_대전_L2_대덕구청VoIP_대전RDC\n",
       "..         ...        ...                               ...\n",
       "93  127.337582  36.296523                  (PON이원화)_천년나무아파트\n",
       "94  127.337517  36.296443                  (PON이원화)_천년나무아파트\n",
       "95  127.337499  36.295920                  (PON이원화)_천년나무아파트\n",
       "96  127.337499  36.295920                  (PON이원화)_천년나무아파트\n",
       "97  127.337509  36.295485                  (PON이원화)_천년나무아파트\n",
       "\n",
       "[98 rows x 3 columns]"
      ]
     },
     "execution_count": 141,
     "metadata": {},
     "output_type": "execute_result"
    }
   ],
   "source": [
    "result"
   ]
  },
  {
   "cell_type": "code",
   "execution_count": 143,
   "id": "8a53a9c9",
   "metadata": {},
   "outputs": [],
   "source": [
    "# GPX 텍스트 템플릿\n",
    "gpx_template = '''<?xml version=\"1.0\" encoding=\"utf-8\"?>\n",
    "<gpx xmlns:xsd=\"http://www.w3.org/2001/XMLSchema\" xmlns=\"http://www.topografix.com/GPX/1/1\">\n",
    "  <trk>\n",
    "    <trkseg>\n",
    "      {trkpts}\n",
    "    </trkseg>\n",
    "  </trk>\n",
    "</gpx>\n",
    "'''\n",
    "\n",
    "# trkpt 템플릿\n",
    "trkpt_template = '<trkpt lon=\"{lon}\" lat=\"{lat}\"><ele>-1</ele></trkpt>'"
   ]
  },
  {
   "cell_type": "code",
   "execution_count": null,
   "id": "3bc08176",
   "metadata": {},
   "outputs": [],
   "source": []
  },
  {
   "cell_type": "code",
   "execution_count": 151,
   "id": "9bdd8238",
   "metadata": {},
   "outputs": [
    {
     "name": "stdout",
     "output_type": "stream",
     "text": [
      "(DUMMY) PTP_대전_L2_대덕구청VoIP_대전RDC  == gpx 작성중 == \n",
      "(DUMMY)_PTP_대전_L2_대덕구청VoIP_대전RDC.gpx 파일이 저장되었습니다.\n",
      "(DUMMY) 둔산-송강-01링  == gpx 작성중 == \n",
      "(DUMMY)_둔산-송강-01링.gpx 파일이 저장되었습니다.\n",
      "(PON이원화)_천년나무아파트  == gpx 작성중 == \n",
      "(PON이원화)_천년나무아파트.gpx 파일이 저장되었습니다.\n"
     ]
    }
   ],
   "source": [
    "for k in range(len(nm_list)):\n",
    "    print(nm_list[k], \" == gpx 작성중 == \")\n",
    "    df3 = result[result['nm'] == nm_list[k]]\n",
    "    df3 = df3.reset_index(drop=True)\n",
    "    \n",
    "    # trkpts 생성\n",
    "    trkpts = ''\n",
    "    for _, row in df3.iterrows():\n",
    "        trkpts += trkpt_template.format(lon=row['Longitude'], lat=row['Latitude'])\n",
    "    # GPX 텍스트 생성\n",
    "    gpx_text = gpx_template.format(trkpts=trkpts)\n",
    "\n",
    "    # nm 값으로 파일명 만들기\n",
    "    file_name = df3['nm'].iloc[0]  # 여기서는 첫 번째 값으로 파일명을 만들었습니다.\n",
    "    file_name = file_name.replace('[', '').replace(']', '').replace('/', '_').replace(' ', '_')\n",
    "    gpx_file_name = f\"{file_name}.gpx\"\n",
    "\n",
    "    # GPX 파일로 저장\n",
    "    with open(gpx_file_name, 'w') as f:\n",
    "        f.write(gpx_text)\n",
    "\n",
    "    print(f\"{gpx_file_name} 파일이 저장되었습니다.\")"
   ]
  },
  {
   "cell_type": "code",
   "execution_count": null,
   "id": "adb2c7a8",
   "metadata": {},
   "outputs": [],
   "source": []
  },
  {
   "cell_type": "code",
   "execution_count": null,
   "id": "54db1dcd",
   "metadata": {},
   "outputs": [],
   "source": []
  },
  {
   "cell_type": "code",
   "execution_count": null,
   "id": "eabf521f",
   "metadata": {},
   "outputs": [],
   "source": []
  },
  {
   "cell_type": "code",
   "execution_count": null,
   "id": "83158afc",
   "metadata": {},
   "outputs": [],
   "source": []
  },
  {
   "cell_type": "code",
   "execution_count": null,
   "id": "e4b9877b",
   "metadata": {},
   "outputs": [],
   "source": []
  },
  {
   "cell_type": "code",
   "execution_count": null,
   "id": "df564501",
   "metadata": {},
   "outputs": [],
   "source": []
  },
  {
   "cell_type": "code",
   "execution_count": null,
   "id": "656b4af0",
   "metadata": {},
   "outputs": [],
   "source": []
  },
  {
   "cell_type": "code",
   "execution_count": null,
   "id": "20a9ae34",
   "metadata": {},
   "outputs": [],
   "source": []
  },
  {
   "cell_type": "code",
   "execution_count": null,
   "id": "d354c1e9",
   "metadata": {},
   "outputs": [],
   "source": []
  },
  {
   "cell_type": "code",
   "execution_count": null,
   "id": "7e5b5541",
   "metadata": {},
   "outputs": [],
   "source": []
  },
  {
   "cell_type": "code",
   "execution_count": null,
   "id": "08479a28",
   "metadata": {},
   "outputs": [],
   "source": []
  },
  {
   "cell_type": "code",
   "execution_count": null,
   "id": "b6dbfbfe",
   "metadata": {},
   "outputs": [],
   "source": []
  },
  {
   "cell_type": "code",
   "execution_count": null,
   "id": "62b518ac",
   "metadata": {},
   "outputs": [],
   "source": []
  }
 ],
 "metadata": {
  "kernelspec": {
   "display_name": "Python 3 (ipykernel)",
   "language": "python",
   "name": "python3"
  },
  "language_info": {
   "codemirror_mode": {
    "name": "ipython",
    "version": 3
   },
   "file_extension": ".py",
   "mimetype": "text/x-python",
   "name": "python",
   "nbconvert_exporter": "python",
   "pygments_lexer": "ipython3",
   "version": "3.10.9"
  }
 },
 "nbformat": 4,
 "nbformat_minor": 5
}
